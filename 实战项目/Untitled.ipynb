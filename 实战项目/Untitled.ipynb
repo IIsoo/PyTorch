{
 "cells": [
  {
   "cell_type": "markdown",
   "id": "45f70ddc",
   "metadata": {},
   "source": [
    "## 02.基于csv数据集的机器学习"
   ]
  },
  {
   "cell_type": "markdown",
   "id": "2c3aca69",
   "metadata": {},
   "source": [
    "### Ⅰ.导入库与csv数据集"
   ]
  },
  {
   "cell_type": "code",
   "execution_count": 9,
   "id": "355ba9a8",
   "metadata": {},
   "outputs": [],
   "source": [
    "import torch\n",
    "import numpy as np\n",
    "import pandas as pd\n",
    "from sklearn import preprocessing\n",
    "\n",
    "csv_value = pd.read_csv('temps.csv')"
   ]
  },
  {
   "cell_type": "markdown",
   "id": "ba43ad78",
   "metadata": {},
   "source": [
    "我们这次除了导入最基本的torch和numpy外，还有处理数据集的pandas和sklearn"
   ]
  },
  {
   "cell_type": "code",
   "execution_count": 10,
   "id": "5067ca1f",
   "metadata": {},
   "outputs": [
    {
     "data": {
      "text/plain": [
       "(   year  month  day  week  temp_2  temp_1  average  actual  friend\n",
       " 0  2016      1    1   Fri      45      45     45.6      45      29\n",
       " 1  2016      1    2   Sat      44      45     45.7      44      61\n",
       " 2  2016      1    3   Sun      45      44     45.8      41      56\n",
       " 3  2016      1    4   Mon      44      41     45.9      40      53\n",
       " 4  2016      1    5  Tues      41      40     46.0      44      41,\n",
       " (348, 9))"
      ]
     },
     "execution_count": 10,
     "metadata": {},
     "output_type": "execute_result"
    }
   ],
   "source": [
    "csv_value.head(), csv_value.shape"
   ]
  },
  {
   "cell_type": "markdown",
   "id": "cb84c0df",
   "metadata": {},
   "source": [
    "输出数据集的头部，可以看到数据集和形状，但是其中有星期的特征，计算机是不能处理字符的，所以我们要先处理一下"
   ]
  },
  {
   "cell_type": "markdown",
   "id": "554c2b2a",
   "metadata": {},
   "source": [
    "### Ⅱ.把数据集预处理成Pytorch可用的格式"
   ]
  },
  {
   "cell_type": "code",
   "execution_count": 11,
   "id": "7f14551c",
   "metadata": {},
   "outputs": [
    {
     "data": {
      "text/html": [
       "<div>\n",
       "<style scoped>\n",
       "    .dataframe tbody tr th:only-of-type {\n",
       "        vertical-align: middle;\n",
       "    }\n",
       "\n",
       "    .dataframe tbody tr th {\n",
       "        vertical-align: top;\n",
       "    }\n",
       "\n",
       "    .dataframe thead th {\n",
       "        text-align: right;\n",
       "    }\n",
       "</style>\n",
       "<table border=\"1\" class=\"dataframe\">\n",
       "  <thead>\n",
       "    <tr style=\"text-align: right;\">\n",
       "      <th></th>\n",
       "      <th>year</th>\n",
       "      <th>month</th>\n",
       "      <th>day</th>\n",
       "      <th>temp_2</th>\n",
       "      <th>temp_1</th>\n",
       "      <th>average</th>\n",
       "      <th>actual</th>\n",
       "      <th>friend</th>\n",
       "      <th>week_Fri</th>\n",
       "      <th>week_Mon</th>\n",
       "      <th>week_Sat</th>\n",
       "      <th>week_Sun</th>\n",
       "      <th>week_Thurs</th>\n",
       "      <th>week_Tues</th>\n",
       "      <th>week_Wed</th>\n",
       "    </tr>\n",
       "  </thead>\n",
       "  <tbody>\n",
       "    <tr>\n",
       "      <th>0</th>\n",
       "      <td>2016</td>\n",
       "      <td>1</td>\n",
       "      <td>1</td>\n",
       "      <td>45</td>\n",
       "      <td>45</td>\n",
       "      <td>45.6</td>\n",
       "      <td>45</td>\n",
       "      <td>29</td>\n",
       "      <td>1</td>\n",
       "      <td>0</td>\n",
       "      <td>0</td>\n",
       "      <td>0</td>\n",
       "      <td>0</td>\n",
       "      <td>0</td>\n",
       "      <td>0</td>\n",
       "    </tr>\n",
       "    <tr>\n",
       "      <th>1</th>\n",
       "      <td>2016</td>\n",
       "      <td>1</td>\n",
       "      <td>2</td>\n",
       "      <td>44</td>\n",
       "      <td>45</td>\n",
       "      <td>45.7</td>\n",
       "      <td>44</td>\n",
       "      <td>61</td>\n",
       "      <td>0</td>\n",
       "      <td>0</td>\n",
       "      <td>1</td>\n",
       "      <td>0</td>\n",
       "      <td>0</td>\n",
       "      <td>0</td>\n",
       "      <td>0</td>\n",
       "    </tr>\n",
       "    <tr>\n",
       "      <th>2</th>\n",
       "      <td>2016</td>\n",
       "      <td>1</td>\n",
       "      <td>3</td>\n",
       "      <td>45</td>\n",
       "      <td>44</td>\n",
       "      <td>45.8</td>\n",
       "      <td>41</td>\n",
       "      <td>56</td>\n",
       "      <td>0</td>\n",
       "      <td>0</td>\n",
       "      <td>0</td>\n",
       "      <td>1</td>\n",
       "      <td>0</td>\n",
       "      <td>0</td>\n",
       "      <td>0</td>\n",
       "    </tr>\n",
       "    <tr>\n",
       "      <th>3</th>\n",
       "      <td>2016</td>\n",
       "      <td>1</td>\n",
       "      <td>4</td>\n",
       "      <td>44</td>\n",
       "      <td>41</td>\n",
       "      <td>45.9</td>\n",
       "      <td>40</td>\n",
       "      <td>53</td>\n",
       "      <td>0</td>\n",
       "      <td>1</td>\n",
       "      <td>0</td>\n",
       "      <td>0</td>\n",
       "      <td>0</td>\n",
       "      <td>0</td>\n",
       "      <td>0</td>\n",
       "    </tr>\n",
       "    <tr>\n",
       "      <th>4</th>\n",
       "      <td>2016</td>\n",
       "      <td>1</td>\n",
       "      <td>5</td>\n",
       "      <td>41</td>\n",
       "      <td>40</td>\n",
       "      <td>46.0</td>\n",
       "      <td>44</td>\n",
       "      <td>41</td>\n",
       "      <td>0</td>\n",
       "      <td>0</td>\n",
       "      <td>0</td>\n",
       "      <td>0</td>\n",
       "      <td>0</td>\n",
       "      <td>1</td>\n",
       "      <td>0</td>\n",
       "    </tr>\n",
       "  </tbody>\n",
       "</table>\n",
       "</div>"
      ],
      "text/plain": [
       "   year  month  day  temp_2  temp_1  average  actual  friend  week_Fri  \\\n",
       "0  2016      1    1      45      45     45.6      45      29         1   \n",
       "1  2016      1    2      44      45     45.7      44      61         0   \n",
       "2  2016      1    3      45      44     45.8      41      56         0   \n",
       "3  2016      1    4      44      41     45.9      40      53         0   \n",
       "4  2016      1    5      41      40     46.0      44      41         0   \n",
       "\n",
       "   week_Mon  week_Sat  week_Sun  week_Thurs  week_Tues  week_Wed  \n",
       "0         0         0         0           0          0         0  \n",
       "1         0         1         0           0          0         0  \n",
       "2         0         0         1           0          0         0  \n",
       "3         1         0         0           0          0         0  \n",
       "4         0         0         0           0          1         0  "
      ]
     },
     "execution_count": 11,
     "metadata": {},
     "output_type": "execute_result"
    }
   ],
   "source": [
    "csv_value = pd.get_dummies(csv_value) #这个方法能将数据中字符类型的特征转换成数值类型\n",
    "csv_value.head()"
   ]
  },
  {
   "cell_type": "markdown",
   "id": "8b608ba6",
   "metadata": {},
   "source": [
    "\n",
    "接着我们来从中分割出训练集和标签集"
   ]
  },
  {
   "cell_type": "code",
   "execution_count": 14,
   "id": "b7c62c72",
   "metadata": {},
   "outputs": [
    {
     "data": {
      "text/plain": [
       "(array([ 0.        , -1.5678393 , -1.5426712 , -1.5692981 , -1.4944355 ,\n",
       "        -1.3375576 ,  0.06187741, -0.40961596, -0.40482044,  2.4413111 ,\n",
       "        -0.40482044, -0.40482044, -0.41913682, -0.40482044], dtype=float32),\n",
       " array([44.], dtype=float32))"
      ]
     },
     "execution_count": 14,
     "metadata": {},
     "output_type": "execute_result"
    }
   ],
   "source": [
    "valid_value = np.array(csv_value['actual']) #将数据集中的真实温度作为标签集\n",
    "valid_value = torch.tensor(valid_value, dtype=torch.float32, requires_grad=True).reshape(-1, 1) #转换成tensor格式的列向量并可导\n",
    "train_value = np.array(csv_value.drop('actual', axis=1)) #把去掉真实温度的数据集作为训练集\n",
    "train_value = preprocessing.StandardScaler().fit_transform(train_value) #对训练集做标准化预处理\n",
    "train_value = torch.tensor(train_value, dtype=torch.float32, requires_grad=True) #转化训练集为tensor格式并可导\n",
    "train_value.data.numpy()[1], valid_value.data.numpy()[1]"
   ]
  },
  {
   "cell_type": "markdown",
   "id": "f38fb520",
   "metadata": {},
   "source": [
    "训练集和标签集就都被我们处理好了\n"
   ]
  },
  {
   "cell_type": "markdown",
   "id": "6c3861c5",
   "metadata": {},
   "source": [
    "### Ⅲ.定义我们的训练模型"
   ]
  },
  {
   "cell_type": "code",
   "execution_count": 16,
   "id": "242823cf",
   "metadata": {},
   "outputs": [],
   "source": [
    "my_nn = torch.nn.Sequential(\n",
    "    torch.nn.Linear(train_value.shape[1], 128),\n",
    "    torch.nn.ReLU(),\n",
    "    torch.nn.Linear(128, 1)\n",
    ")"
   ]
  },
  {
   "cell_type": "markdown",
   "id": "8ede9aa5",
   "metadata": {},
   "source": [
    "这次我们使用了一个两层的模型，包含两个全连接和一个非线性处理ReLu()\n",
    "输入值是训练集的特征数量，使用128个神经元，输出1个预测值，也就是当天温度"
   ]
  },
  {
   "cell_type": "markdown",
   "id": "c070a494",
   "metadata": {},
   "source": [
    "### Ⅳ.定义超参数、损失函数和优化器"
   ]
  },
  {
   "cell_type": "code",
   "execution_count": 17,
   "id": "08dd37e0",
   "metadata": {},
   "outputs": [],
   "source": [
    "epochs = 1000 # 周期1000\n",
    "batch_size = 16 # batch包16为一个\n",
    "optimizer = torch.optim.Adam(my_nn.parameters(), lr=0.001) # 优化器Adam能够动态调节学习率lr\n",
    "cost = torch.nn.MSELoss() # 损失函数还是用MESloss"
   ]
  },
  {
   "cell_type": "markdown",
   "id": "ec02b1d1",
   "metadata": {},
   "source": [
    "这里有个新的超参数batch_size，主要作用是将训练集分批次投入模型中训练，使模型参数更新地更频繁，这样的训练效率会更高"
   ]
  },
  {
   "cell_type": "markdown",
   "id": "7cb99b90",
   "metadata": {},
   "source": [
    "### Ⅴ.开始训练"
   ]
  },
  {
   "cell_type": "code",
   "execution_count": 23,
   "id": "a2745e8d",
   "metadata": {},
   "outputs": [
    {
     "name": "stdout",
     "output_type": "stream",
     "text": [
      "100/1000, Loss=9.49\n",
      "200/1000, Loss=9.39\n",
      "300/1000, Loss=9.25\n",
      "400/1000, Loss=9.27\n",
      "500/1000, Loss=8.80\n",
      "600/1000, Loss=8.72\n",
      "700/1000, Loss=8.10\n",
      "800/1000, Loss=7.75\n",
      "900/1000, Loss=7.70\n",
      "1000/1000, Loss=7.21\n"
     ]
    }
   ],
   "source": [
    "for epoch in range(epochs):\n",
    "    losses =[] # 增加一个存储loss的数组，用于计算每个周期的损失均值\n",
    "    epoch += 1\n",
    "    for start in range(0, len(train_value), batch_size): # 把训练集分成一个个batch进行训练\n",
    "        end = start + batch_size if start + batch_size < len(train_value) else len(train_value)\n",
    "        outputs = my_nn(train_value[start: end])\n",
    "        loss = cost(valid_value[start: end], outputs)\n",
    "        losses.append(loss.data.numpy()) # 把当前batch的损失值加入数组\n",
    "        optimizer.zero_grad()\n",
    "        loss.backward()\n",
    "        optimizer.step()\n",
    "        \n",
    "    if epoch % 100 == 0:# 输出损失\n",
    "        print('{}/{}, Loss={:.2f}'.format(epoch, epochs, np.mean(losses)))"
   ]
  },
  {
   "cell_type": "markdown",
   "id": "3851c7e0",
   "metadata": {},
   "source": [
    "在运行后会发现这次耗时有明显提升，这是因为我们的数据集和模型层数都有所增加\n",
    "\n",
    "这次的练习项目相比上次的更有一些实用性，相信你也获得了小小的成就感，期待我们下次的实战项目！"
   ]
  }
 ],
 "metadata": {
  "kernelspec": {
   "display_name": "Python 3 (ipykernel)",
   "language": "python",
   "name": "python3"
  },
  "language_info": {
   "codemirror_mode": {
    "name": "ipython",
    "version": 3
   },
   "file_extension": ".py",
   "mimetype": "text/x-python",
   "name": "python",
   "nbconvert_exporter": "python",
   "pygments_lexer": "ipython3",
   "version": "3.9.12"
  }
 },
 "nbformat": 4,
 "nbformat_minor": 5
}
